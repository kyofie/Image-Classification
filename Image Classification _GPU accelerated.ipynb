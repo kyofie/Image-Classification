{
 "cells": [
  {
   "cell_type": "code",
   "execution_count": null,
   "id": "e4ac12d8",
   "metadata": {},
   "outputs": [],
   "source": [
    "from keras.models import Sequential\n",
    "from keras.layers.convolutional import Conv2D\n",
    "from keras.layers.pooling import MaxPool2D\n",
    "from keras.layers.core import Dense,Activation,Dropout,Flatten\n",
    "import tensorflow as tf\n",
    "from tensorflow.keras import datasets, layers, models, optimizers"
   ]
  },
  {
   "cell_type": "code",
   "execution_count": null,
   "id": "92621a7e",
   "metadata": {},
   "outputs": [],
   "source": [
    "from keras.datasets import cifar100\n",
    "(train_set,train_label),(test_set,test_label) = cifar100.load_data()\n",
    "train_set = train_set.astype('float32')/255.0\n",
    "test_set = test_set.astype('float32')/255.0\n",
    "from keras.utils import np_utils\n",
    "train_label = np_utils.to_categorical(train_label,100)\n",
    "test_label = np_utils.to_categorical(test_label,100)"
   ]
  },
  {
   "cell_type": "code",
   "execution_count": null,
   "id": "74cfc100",
   "metadata": {},
   "outputs": [],
   "source": [
    "classify = Sequential()\n",
    "classify.add(Conv2D(32,(3,3),activation='relu',padding='same',input_shape=(32,32,3)))\n",
    "classify.add(Conv2D(32,(3,3),activation='relu',padding='same'))\n",
    "classify.add(MaxPool2D(pool_size=(2,2)))\n",
    "classify.add(Dropout(0.25))\n",
    "classify.add(Conv2D(64,(3,3),activation='relu',padding='same'))\n",
    "classify.add(MaxPool2D(pool_size=(2,2)))\n",
    "classify.add(Conv2D(64,(3,3),activation='relu',padding='same'))\n",
    "classify.add(MaxPool2D(pool_size=(2,2)))\n",
    "classify.add(Dropout(0.25))\n",
    "classify.add(Flatten())\n",
    "classify.add(Dense(512,activation='relu'))\n",
    "classify.add(Dropout(0.5))\n",
    "classify.add(Dense(100,activation='softmax'))"
   ]
  },
  {
   "cell_type": "code",
   "execution_count": null,
   "id": "7fd528cb",
   "metadata": {},
   "outputs": [],
   "source": [
    "classify.compile(optimizer='adam',loss='categorical_crossentropy',metrics=['accuracy'])\n",
    " \n",
    "classify.summary()"
   ]
  },
  {
   "cell_type": "code",
   "execution_count": null,
   "id": "c0f9709b",
   "metadata": {},
   "outputs": [],
   "source": [
    "trained_nn = classify.fit(train_set,train_label,batch_size=128, epochs =50,verbose=1)"
   ]
  },
  {
   "cell_type": "code",
   "execution_count": null,
   "id": "bacd2682",
   "metadata": {},
   "outputs": [],
   "source": [
    "score = classify.evaluate(test_set,test_label,verbose=0)\n",
    "print('deviation',score[0])\n",
    "print('accuracy:',score[1])\n",
    "     "
   ]
  },
  {
   "cell_type": "code",
   "execution_count": null,
   "id": "54613dcd",
   "metadata": {},
   "outputs": [],
   "source": [
    "prediction = classify.predict(test_set)"
   ]
  },
  {
   "cell_type": "code",
   "execution_count": null,
   "id": "0da68d38",
   "metadata": {},
   "outputs": [],
   "source": [
    "prediction.shape"
   ]
  },
  {
   "cell_type": "code",
   "execution_count": null,
   "id": "9698b0de",
   "metadata": {},
   "outputs": [],
   "source": [
    "import numpy as np\n",
    "import matplotlib.pyplot as plt"
   ]
  },
  {
   "cell_type": "code",
   "execution_count": null,
   "id": "e010f389",
   "metadata": {},
   "outputs": [],
   "source": [
    "prediction"
   ]
  },
  {
   "cell_type": "code",
   "execution_count": null,
   "id": "c28af513",
   "metadata": {},
   "outputs": [],
   "source": [
    "def image_predictor(test):\n",
    "      if test>0 and test <10000 :\n",
    "            plt.imshow(test_set[test])\n",
    "            predictions = np.argmax(prediction[test])\n",
    "            plt.title('prediction:{0}'.format(predictions))\n",
    "            plt.show()\n",
    "    \n",
    "      else :\n",
    "            test = np.random.randint(1,10000)\n",
    "            plt.imshow(test_set[test])\n",
    "            predictions = np.argmax(prediction[test])\n",
    "            plt.title('prediction:{0}'.format(prediction))\n",
    "            plt.show()\n",
    "\n",
    "image_predictor(88)  "
   ]
  }
 ],
 "metadata": {
  "kernelspec": {
   "display_name": "Python 3 (ipykernel)",
   "language": "python",
   "name": "python3"
  },
  "language_info": {
   "codemirror_mode": {
    "name": "ipython",
    "version": 3
   },
   "file_extension": ".py",
   "mimetype": "text/x-python",
   "name": "python",
   "nbconvert_exporter": "python",
   "pygments_lexer": "ipython3",
   "version": "3.10.6"
  }
 },
 "nbformat": 4,
 "nbformat_minor": 5
}
